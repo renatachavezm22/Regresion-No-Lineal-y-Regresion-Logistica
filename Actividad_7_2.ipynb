{
  "nbformat": 4,
  "nbformat_minor": 0,
  "metadata": {
    "colab": {
      "provenance": [],
      "include_colab_link": true
    },
    "kernelspec": {
      "name": "python3",
      "display_name": "Python 3"
    },
    "language_info": {
      "name": "python"
    }
  },
  "cells": [
    {
      "cell_type": "markdown",
      "metadata": {
        "id": "view-in-github",
        "colab_type": "text"
      },
      "source": [
        "<a href=\"https://colab.research.google.com/github/renatachavezm22/Regresion-No-Lineal-y-Regresion-Logistica/blob/main/Actividad_7_2.ipynb\" target=\"_parent\"><img src=\"https://colab.research.google.com/assets/colab-badge.svg\" alt=\"Open In Colab\"/></a>"
      ]
    },
    {
      "cell_type": "code",
      "execution_count": null,
      "metadata": {
        "id": "-5_ghIj3jWCg"
      },
      "outputs": [],
      "source": [
        "import pandas as pd\n",
        "from pandas import Series, DataFrame\n",
        "from datetime import date, time, datetime\n",
        "import numpy as np\n",
        "import matplotlib.pyplot as plt\n",
        "import seaborn as sns\n",
        "from google.colab import files\n",
        "import math\n",
        "from sklearn.linear_model import LinearRegression\n",
        "from sklearn.metrics import r2_score\n",
        "from scipy.optimize import curve_fit\n",
        "from sklearn.metrics import f1_score\n",
        "from sklearn.metrics import recall_score\n",
        "from sklearn.metrics import accuracy_score\n",
        "from sklearn.metrics import precision_score\n",
        "from sklearn.metrics import confusion_matrix\n",
        "from sklearn.linear_model import LogisticRegression\n",
        "from sklearn.model_selection import train_test_split\n",
        "from sklearn.preprocessing import StandardScaler"
      ]
    },
    {
      "cell_type": "code",
      "source": [
        "Gastos = pd.read_csv(\"Gastos (SN).csv\", index_col='Unnamed: 0')"
      ],
      "metadata": {
        "id": "RPBU8nThLOSA"
      },
      "execution_count": null,
      "outputs": []
    },
    {
      "cell_type": "markdown",
      "source": [
        "## Eliminar Outliers"
      ],
      "metadata": {
        "id": "fvZbjNjKXjZ3"
      }
    },
    {
      "cell_type": "markdown",
      "source": [
        "En este punto lo que se hizo fue generar una función que nos permitiera eliminar los valores atípicos de las funciones por el método de los quartiles. Se utilizó este método debido a que es el más estricto y que elimina la mayor cantidad de valores a diferencia del que es por varianza. \n",
        "\n",
        "Posteriormente, se aplicó la función a todos los DataFrame que se habían limpiado de valores nulos en actividades anteriores. La razón por la cual se eliminaron los valores atípicos, es para poder evitar que al momento de generar toda la estadística descriptiva, no se llegue a ver demasiado sesgada por este tipo de datos. "
      ],
      "metadata": {
        "id": "JD5-jTE-EoPt"
      }
    },
    {
      "cell_type": "code",
      "source": [
        "def outliers(df):\n",
        "  numericas = df._get_numeric_data()\n",
        "  y=numericas\n",
        "\n",
        "  percentile25=y.quantile(0.25) \n",
        "  percentile75=y.quantile(0.75) \n",
        "  iqr= percentile75 - percentile25\n",
        "\n",
        "  Limite_Superior_iqr= percentile75 + 1.5*iqr\n",
        "  Limite_Inferior_iqr= percentile25 - 1.5*iqr\n",
        "\n",
        "  data4_iqr= numericas[(y<=Limite_Superior_iqr)&(y>=Limite_Inferior_iqr)]\n",
        "\n",
        "  data5_iqr=data4_iqr.copy()\n",
        "  data5_iqr=data5_iqr.fillna(round(data4_iqr.mean(),1))\n",
        "  data5_iqr.isnull().sum()\n",
        "\n",
        "  categoricas = df.drop(data5_iqr.columns, axis = 1)\n",
        "  df1 = pd.concat([categoricas, data5_iqr], axis = 1)\n",
        "  return df1"
      ],
      "metadata": {
        "id": "di0epHSAXlvZ"
      },
      "execution_count": null,
      "outputs": []
    },
    {
      "cell_type": "code",
      "source": [
        "Gastos = outliers(Gastos)"
      ],
      "metadata": {
        "id": "2zH5XHoPjDHw"
      },
      "execution_count": null,
      "outputs": []
    },
    {
      "cell_type": "markdown",
      "source": [
        "##Funciones"
      ],
      "metadata": {
        "id": "MHQ66Wvj4_w6"
      }
    },
    {
      "cell_type": "code",
      "source": [
        "Gastos1 = Gastos.copy()\n",
        "Gastos['FECHA'] = pd.to_datetime(Gastos['FECHA'])\n",
        "Gastos1['año'] = Gastos['FECHA'].dt.year"
      ],
      "metadata": {
        "id": "R6zDWw4Z5h35"
      },
      "execution_count": null,
      "outputs": []
    },
    {
      "cell_type": "code",
      "source": [
        "Compras = Gastos1[Gastos1['TIPO_GASTO']=='COMPRAS']\n",
        "Otros = Gastos1[Gastos1['TIPO_GASTO']!='COMPRAS']\n",
        "Otros['TIPO_GASTO'] = 'OTROS GASTOS'\n",
        "Gastos1 = pd.concat([Compras, Otros], axis = 0)"
      ],
      "metadata": {
        "colab": {
          "base_uri": "https://localhost:8080/"
        },
        "id": "VHZ5_TmlQcmN",
        "outputId": "a99b8aa5-ea8d-418a-931d-27f1d72956bf"
      },
      "execution_count": null,
      "outputs": [
        {
          "output_type": "stream",
          "name": "stderr",
          "text": [
            "<ipython-input-53-83694b318125>:3: SettingWithCopyWarning: \n",
            "A value is trying to be set on a copy of a slice from a DataFrame.\n",
            "Try using .loc[row_indexer,col_indexer] = value instead\n",
            "\n",
            "See the caveats in the documentation: https://pandas.pydata.org/pandas-docs/stable/user_guide/indexing.html#returning-a-view-versus-a-copy\n",
            "  Otros['TIPO_GASTO'] = 'OTROS GASTOS'\n"
          ]
        }
      ]
    },
    {
      "cell_type": "code",
      "source": [
        "Gastos2020 = pd.DataFrame()\n",
        "Gastos2021 = pd.DataFrame()\n",
        "Gastos2022 = pd.DataFrame()\n",
        "Gastos2023 = pd.DataFrame()\n",
        "Gastos2020 = Gastos1[Gastos1['año']== 2020]\n",
        "Gastos2021 = Gastos1[Gastos1['año']== 2021]\n",
        "Gastos2022 = Gastos1[Gastos1['año']== 2022]\n",
        "Gastos2023 = Gastos1[Gastos1['año']== 2023]\n"
      ],
      "metadata": {
        "id": "wfTeKXzG7GqM"
      },
      "execution_count": null,
      "outputs": []
    },
    {
      "cell_type": "code",
      "source": [
        "def RegLogistica (df):\n",
        "  Vars_Indep= df[['TOTAL']]\n",
        "  Var_Dep= df['TIPO_GASTO']\n",
        "  X= Vars_Indep\n",
        "  y= Var_Dep\n",
        "  X_train, X_test, y_train, y_test = train_test_split(X, y, test_size=0.3, random_state =None)\n",
        "  escalar = StandardScaler()\n",
        "  X_train = escalar.fit_transform(X_train)\n",
        "  X_test = escalar.transform(X_test)  \n",
        "  algoritmo = LogisticRegression()\n",
        "  algoritmo.fit(X_train, y_train)\n",
        "  y_pred = algoritmo.predict(X_test) \n",
        "  matriz = confusion_matrix(y_test, y_pred)\n",
        "  print('Matriz de Confusión:')\n",
        "  print(matriz)\n",
        "  precision = precision_score(y_test, y_pred, average=\"binary\", pos_label=\"COMPRAS\")\n",
        "  print('Precisión del modelo:', precision)\n",
        "  exactitud = accuracy_score(y_test, y_pred)\n",
        "  print('Exactitud del modelo:', exactitud)\n",
        "  sensibilidad = recall_score(y_test, y_pred, average=\"binary\", pos_label=\"COMPRAS\")\n",
        "  print('Sensibilidad del modelo:', sensibilidad)\n",
        "  puntajef1 = f1_score(y_test, y_pred, average=\"binary\", pos_label=\"COMPRAS\")\n",
        "  print('Puntaje F1 del modelo:', puntajef1)\n",
        "  return (precision, exactitud, sensibilidad)"
      ],
      "metadata": {
        "id": "4nTOjG6785HL"
      },
      "execution_count": null,
      "outputs": []
    },
    {
      "cell_type": "code",
      "source": [
        "Lprecision = []\n",
        "Lexactitud = []\n",
        "Lsensibilidad = []\n",
        "precision, exactitud, sensibilidad = RegLogistica(Gastos2020)\n",
        "Lprecision.append(precision)\n",
        "Lexactitud.append(exactitud)\n",
        "Lsensibilidad.append(sensibilidad)\n",
        "precision, exactitud, sensibilidad = RegLogistica(Gastos2021)\n",
        "Lprecision.append(precision)\n",
        "Lexactitud.append(exactitud)\n",
        "Lsensibilidad.append(sensibilidad)\n",
        "precision, exactitud, sensibilidad = RegLogistica(Gastos2022)\n",
        "Lprecision.append(precision)\n",
        "Lexactitud.append(exactitud)\n",
        "Lsensibilidad.append(sensibilidad)\n",
        "precision, exactitud, sensibilidad = RegLogistica(Gastos2023)\n",
        "Lprecision.append(precision)\n",
        "Lexactitud.append(exactitud)\n",
        "Lsensibilidad.append(sensibilidad)"
      ],
      "metadata": {
        "colab": {
          "base_uri": "https://localhost:8080/"
        },
        "id": "NtgNNQRi-1un",
        "outputId": "2717d056-0d39-4bef-fdb3-f683ff2d1695"
      },
      "execution_count": null,
      "outputs": [
        {
          "output_type": "stream",
          "name": "stdout",
          "text": [
            "Matriz de Confusión:\n",
            "[[ 61 389]\n",
            " [ 41 512]]\n",
            "Precisión del modelo: 0.5980392156862745\n",
            "Exactitud del modelo: 0.5712861415752741\n",
            "Sensibilidad del modelo: 0.13555555555555557\n",
            "Puntaje F1 del modelo: 0.22101449275362323\n",
            "Matriz de Confusión:\n",
            "[[154 316]\n",
            " [101 340]]\n",
            "Precisión del modelo: 0.6039215686274509\n",
            "Exactitud del modelo: 0.5422612513721186\n",
            "Sensibilidad del modelo: 0.3276595744680851\n",
            "Puntaje F1 del modelo: 0.42482758620689653\n",
            "Matriz de Confusión:\n",
            "[[ 49 327]\n",
            " [ 35 363]]\n",
            "Precisión del modelo: 0.5833333333333334\n",
            "Exactitud del modelo: 0.5322997416020672\n",
            "Sensibilidad del modelo: 0.13031914893617022\n",
            "Puntaje F1 del modelo: 0.21304347826086958\n",
            "Matriz de Confusión:\n",
            "[[10 47]\n",
            " [ 5 58]]\n",
            "Precisión del modelo: 0.6666666666666666\n",
            "Exactitud del modelo: 0.5666666666666667\n",
            "Sensibilidad del modelo: 0.17543859649122806\n",
            "Puntaje F1 del modelo: 0.2777777777777778\n"
          ]
        }
      ]
    },
    {
      "cell_type": "code",
      "source": [
        "tabla = pd.DataFrame()\n",
        "anios = ['2020', '2021', '2022', '2023']\n",
        "tabla['Años']=anios\n",
        "tabla['Precisión']=Lprecision\n",
        "tabla['Exactitud']=Lexactitud\n",
        "tabla['Sensibilidad']=Lsensibilidad\n",
        "tabla = tabla.set_index('Años')\n",
        "tabla"
      ],
      "metadata": {
        "colab": {
          "base_uri": "https://localhost:8080/",
          "height": 206
        },
        "id": "5vhCAs2fAjRz",
        "outputId": "5092537e-01e6-4e2e-9f64-1089eb3f81ae"
      },
      "execution_count": null,
      "outputs": [
        {
          "output_type": "execute_result",
          "data": {
            "text/plain": [
              "      Precisión  Exactitud  Sensibilidad\n",
              "Años                                    \n",
              "2020   0.598039   0.571286      0.135556\n",
              "2021   0.603922   0.542261      0.327660\n",
              "2022   0.583333   0.532300      0.130319\n",
              "2023   0.666667   0.566667      0.175439"
            ],
            "text/html": [
              "\n",
              "  <div id=\"df-58a7d779-a49d-4945-a453-8d0ee031dba3\">\n",
              "    <div class=\"colab-df-container\">\n",
              "      <div>\n",
              "<style scoped>\n",
              "    .dataframe tbody tr th:only-of-type {\n",
              "        vertical-align: middle;\n",
              "    }\n",
              "\n",
              "    .dataframe tbody tr th {\n",
              "        vertical-align: top;\n",
              "    }\n",
              "\n",
              "    .dataframe thead th {\n",
              "        text-align: right;\n",
              "    }\n",
              "</style>\n",
              "<table border=\"1\" class=\"dataframe\">\n",
              "  <thead>\n",
              "    <tr style=\"text-align: right;\">\n",
              "      <th></th>\n",
              "      <th>Precisión</th>\n",
              "      <th>Exactitud</th>\n",
              "      <th>Sensibilidad</th>\n",
              "    </tr>\n",
              "    <tr>\n",
              "      <th>Años</th>\n",
              "      <th></th>\n",
              "      <th></th>\n",
              "      <th></th>\n",
              "    </tr>\n",
              "  </thead>\n",
              "  <tbody>\n",
              "    <tr>\n",
              "      <th>2020</th>\n",
              "      <td>0.598039</td>\n",
              "      <td>0.571286</td>\n",
              "      <td>0.135556</td>\n",
              "    </tr>\n",
              "    <tr>\n",
              "      <th>2021</th>\n",
              "      <td>0.603922</td>\n",
              "      <td>0.542261</td>\n",
              "      <td>0.327660</td>\n",
              "    </tr>\n",
              "    <tr>\n",
              "      <th>2022</th>\n",
              "      <td>0.583333</td>\n",
              "      <td>0.532300</td>\n",
              "      <td>0.130319</td>\n",
              "    </tr>\n",
              "    <tr>\n",
              "      <th>2023</th>\n",
              "      <td>0.666667</td>\n",
              "      <td>0.566667</td>\n",
              "      <td>0.175439</td>\n",
              "    </tr>\n",
              "  </tbody>\n",
              "</table>\n",
              "</div>\n",
              "      <button class=\"colab-df-convert\" onclick=\"convertToInteractive('df-58a7d779-a49d-4945-a453-8d0ee031dba3')\"\n",
              "              title=\"Convert this dataframe to an interactive table.\"\n",
              "              style=\"display:none;\">\n",
              "        \n",
              "  <svg xmlns=\"http://www.w3.org/2000/svg\" height=\"24px\"viewBox=\"0 0 24 24\"\n",
              "       width=\"24px\">\n",
              "    <path d=\"M0 0h24v24H0V0z\" fill=\"none\"/>\n",
              "    <path d=\"M18.56 5.44l.94 2.06.94-2.06 2.06-.94-2.06-.94-.94-2.06-.94 2.06-2.06.94zm-11 1L8.5 8.5l.94-2.06 2.06-.94-2.06-.94L8.5 2.5l-.94 2.06-2.06.94zm10 10l.94 2.06.94-2.06 2.06-.94-2.06-.94-.94-2.06-.94 2.06-2.06.94z\"/><path d=\"M17.41 7.96l-1.37-1.37c-.4-.4-.92-.59-1.43-.59-.52 0-1.04.2-1.43.59L10.3 9.45l-7.72 7.72c-.78.78-.78 2.05 0 2.83L4 21.41c.39.39.9.59 1.41.59.51 0 1.02-.2 1.41-.59l7.78-7.78 2.81-2.81c.8-.78.8-2.07 0-2.86zM5.41 20L4 18.59l7.72-7.72 1.47 1.35L5.41 20z\"/>\n",
              "  </svg>\n",
              "      </button>\n",
              "      \n",
              "  <style>\n",
              "    .colab-df-container {\n",
              "      display:flex;\n",
              "      flex-wrap:wrap;\n",
              "      gap: 12px;\n",
              "    }\n",
              "\n",
              "    .colab-df-convert {\n",
              "      background-color: #E8F0FE;\n",
              "      border: none;\n",
              "      border-radius: 50%;\n",
              "      cursor: pointer;\n",
              "      display: none;\n",
              "      fill: #1967D2;\n",
              "      height: 32px;\n",
              "      padding: 0 0 0 0;\n",
              "      width: 32px;\n",
              "    }\n",
              "\n",
              "    .colab-df-convert:hover {\n",
              "      background-color: #E2EBFA;\n",
              "      box-shadow: 0px 1px 2px rgba(60, 64, 67, 0.3), 0px 1px 3px 1px rgba(60, 64, 67, 0.15);\n",
              "      fill: #174EA6;\n",
              "    }\n",
              "\n",
              "    [theme=dark] .colab-df-convert {\n",
              "      background-color: #3B4455;\n",
              "      fill: #D2E3FC;\n",
              "    }\n",
              "\n",
              "    [theme=dark] .colab-df-convert:hover {\n",
              "      background-color: #434B5C;\n",
              "      box-shadow: 0px 1px 3px 1px rgba(0, 0, 0, 0.15);\n",
              "      filter: drop-shadow(0px 1px 2px rgba(0, 0, 0, 0.3));\n",
              "      fill: #FFFFFF;\n",
              "    }\n",
              "  </style>\n",
              "\n",
              "      <script>\n",
              "        const buttonEl =\n",
              "          document.querySelector('#df-58a7d779-a49d-4945-a453-8d0ee031dba3 button.colab-df-convert');\n",
              "        buttonEl.style.display =\n",
              "          google.colab.kernel.accessAllowed ? 'block' : 'none';\n",
              "\n",
              "        async function convertToInteractive(key) {\n",
              "          const element = document.querySelector('#df-58a7d779-a49d-4945-a453-8d0ee031dba3');\n",
              "          const dataTable =\n",
              "            await google.colab.kernel.invokeFunction('convertToInteractive',\n",
              "                                                     [key], {});\n",
              "          if (!dataTable) return;\n",
              "\n",
              "          const docLinkHtml = 'Like what you see? Visit the ' +\n",
              "            '<a target=\"_blank\" href=https://colab.research.google.com/notebooks/data_table.ipynb>data table notebook</a>'\n",
              "            + ' to learn more about interactive tables.';\n",
              "          element.innerHTML = '';\n",
              "          dataTable['output_type'] = 'display_data';\n",
              "          await google.colab.output.renderOutput(dataTable, element);\n",
              "          const docLink = document.createElement('div');\n",
              "          docLink.innerHTML = docLinkHtml;\n",
              "          element.appendChild(docLink);\n",
              "        }\n",
              "      </script>\n",
              "    </div>\n",
              "  </div>\n",
              "  "
            ]
          },
          "metadata": {},
          "execution_count": 59
        }
      ]
    }
  ]
}